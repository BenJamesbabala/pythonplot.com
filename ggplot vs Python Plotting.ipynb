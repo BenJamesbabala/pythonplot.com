{
 "cells": [
  {
   "cell_type": "code",
   "execution_count": null,
   "metadata": {},
   "outputs": [],
   "source": [
    "%matplotlib inline\n",
    "\n",
    "import pandas as pd\n",
    "import seaborn as sns\n",
    "import matplotlib.pyplot as plt\n",
    "from plotnine import *\n",
    "\n",
    "\n",
    "%load_ext rpy2.ipython\n",
    "\n",
    "from pylab import rcParams\n",
    "size = 20\n",
    "params = {'legend.fontsize': size,\n",
    "          'figure.figsize': (15, 5),\n",
    "         'axes.labelsize': size, \n",
    "         'axes.titlesize':size, \n",
    "         'xtick.labelsize':size, \n",
    "         'ytick.labelsize':size, \n",
    "          'axes.titlesize':1.5*size, \n",
    "         'figure.figsize': (12, 12)}\n",
    "rcParams.update(params)\n",
    "theme_update(figure_size=(9, 9), title=element_text(size=size), text=element_text(size=.6*size)) # for plotnine"
   ]
  },
  {
   "cell_type": "code",
   "execution_count": null,
   "metadata": {
    "collapsed": true
   },
   "outputs": [],
   "source": [
    "%%R\n",
    "library(ggplot2) \n",
    "theme_set(theme_grey(base_size = 24)) "
   ]
  },
  {
   "cell_type": "markdown",
   "metadata": {},
   "source": [
    "Outline\n",
    "\n",
    "* Plots \n",
    "    * Bar \n",
    "    * Histogram\n",
    "    * Scatter \n",
    "    * Box and whisker\n",
    "    * Line \n",
    "        * Time series\n",
    "* Extensions\n",
    "    * Faceting on categorical\n",
    "    * Stacked bar/histogram\n",
    "    * Line over scatter\n",
    "    * Multi color/symbol scatter\n",
    "    * Multiple line plots\n",
    "* Modifications\n",
    "    * Log scaled axes\n",
    "    * Time labeled axes\n",
    "    * Histogram bin-width\n",
    "    * Aspect ratio\n",
    "    * Axis boundaries\n"
   ]
  },
  {
   "cell_type": "markdown",
   "metadata": {},
   "source": [
    "## Load Data"
   ]
  },
  {
   "cell_type": "markdown",
   "metadata": {},
   "source": [
    "Data is from [ggplot2](http://ggplot2.tidyverse.org/reference/mpg.html).\n",
    "\n",
    "Many ggplot examples taken from [R for data science](http://r4ds.had.co.nz/visualize.html) by Garrett Grolemund and Hadley Wickham."
   ]
  },
  {
   "cell_type": "code",
   "execution_count": null,
   "metadata": {},
   "outputs": [],
   "source": [
    "%%R\n",
    "summary(mpg)"
   ]
  },
  {
   "cell_type": "code",
   "execution_count": null,
   "metadata": {
    "collapsed": true
   },
   "outputs": [],
   "source": [
    "mpg = pd.read_csv('https://raw.githubusercontent.com/tidyverse/ggplot2/master/data-raw/mpg.csv')\n",
    "diamonds = pd.read_csv('https://raw.githubusercontent.com/tidyverse/ggplot2/master/data-raw/diamonds.csv')"
   ]
  },
  {
   "cell_type": "markdown",
   "metadata": {},
   "source": [
    "## Plots"
   ]
  },
  {
   "cell_type": "markdown",
   "metadata": {},
   "source": [
    "### Basic Plots"
   ]
  },
  {
   "cell_type": "markdown",
   "metadata": {},
   "source": [
    "#### Bar Charts of Counts"
   ]
  },
  {
   "cell_type": "code",
   "execution_count": null,
   "metadata": {
    "tags": [
     "ex",
     "name:bar-counts",
     "package:ggplot"
    ]
   },
   "outputs": [],
   "source": [
    "%%R -w 10 -h 10 -u in\n",
    "ggplot(data=mpg) + \n",
    "    aes(x=manufacturer) + \n",
    "    geom_bar() + \n",
    "    coord_flip() +\n",
    "    ggtitle(\"Number of Cars by Make\")"
   ]
  },
  {
   "cell_type": "code",
   "execution_count": null,
   "metadata": {
    "tags": [
     "ex",
     "name:bar-counts",
     "package:pandas"
    ]
   },
   "outputs": [],
   "source": [
    "(mpg['manufacturer']\n",
    " .value_counts(sort=False)\n",
    " .plot.barh()\n",
    " .set_title('Number of Cars by Make')\n",
    ");"
   ]
  },
  {
   "cell_type": "code",
   "execution_count": null,
   "metadata": {
    "scrolled": false,
    "tags": [
     "ex",
     "name:bar-counts",
     "package:plotnine"
    ]
   },
   "outputs": [],
   "source": [
    "\"\"\"plotnine gives an error on `ggplot(data=mpg)`.\n",
    "\"\"\"\n",
    "(ggplot(mpg) + \n",
    "    aes(x=\"manufacturer\") +\n",
    "    geom_bar(size=20) + \n",
    "    coord_flip() +\n",
    "    ggtitle(\"Number of Cars by Make\")\n",
    ")"
   ]
  },
  {
   "cell_type": "markdown",
   "metadata": {},
   "source": [
    "#### Histogram of Continuous Values"
   ]
  },
  {
   "cell_type": "code",
   "execution_count": null,
   "metadata": {
    "tags": [
     "ex",
     "name:simple-histogram",
     "package:ggplot"
    ]
   },
   "outputs": [],
   "source": [
    "%%R -w 10 -h 10 -u in\n",
    "ggplot(data=mpg) + \n",
    "    aes(x=cty) + \n",
    "    geom_histogram(binwidth=2)"
   ]
  },
  {
   "cell_type": "code",
   "execution_count": null,
   "metadata": {
    "tags": [
     "ex",
     "name:simple-histogram",
     "package:matplotlib"
    ]
   },
   "outputs": [],
   "source": [
    "plt.hist('cty', bins=12, data=mpg);"
   ]
  },
  {
   "cell_type": "code",
   "execution_count": null,
   "metadata": {
    "scrolled": false,
    "tags": [
     "ex",
     "name:simple-histogram",
     "package:pandas"
    ]
   },
   "outputs": [],
   "source": [
    "(mpg['cty']\n",
    " .plot\n",
    " .hist(bins=12));"
   ]
  },
  {
   "cell_type": "code",
   "execution_count": null,
   "metadata": {
    "tags": [
     "ex",
     "name:simple-histogram",
     "package:plotnine"
    ]
   },
   "outputs": [],
   "source": [
    "(ggplot(mpg) + \n",
    "    aes(x=\"cty\") +\n",
    "    geom_histogram(binwidth=2))"
   ]
  },
  {
   "cell_type": "markdown",
   "metadata": {},
   "source": [
    "#### Scatter Plot"
   ]
  },
  {
   "cell_type": "code",
   "execution_count": null,
   "metadata": {
    "tags": [
     "ex",
     "name:scatter-plot",
     "package:ggplot"
    ]
   },
   "outputs": [],
   "source": [
    "%%R -w 10 -h 10 -u in \n",
    "ggplot(data = mpg) +\n",
    "    aes(x = displ, y = hwy) +\n",
    "    geom_point() + \n",
    "    ggtitle(\"Engine Displacement in Liters vs Highway MPG\") +\n",
    "    xlab(\"Engine Displacement in Liters\") +\n",
    "    ylab(\"Highway MPG\")"
   ]
  },
  {
   "cell_type": "code",
   "execution_count": null,
   "metadata": {
    "tags": [
     "ex",
     "name:scatter-plot",
     "package:pandas"
    ]
   },
   "outputs": [],
   "source": [
    "ax = (mpg\n",
    "    .plot\n",
    "    .scatter(x='displ', y='hwy'))\n",
    "ax.set_title('Engine Displacement in Liters vs Highway MPG')\n",
    "ax.set_xlabel('Engine Displacement in Liters')\n",
    "ax.set_ylabel('Highway MPG');"
   ]
  },
  {
   "cell_type": "code",
   "execution_count": null,
   "metadata": {
    "tags": [
     "ex",
     "name:scatter-plot",
     "package:plotnine"
    ]
   },
   "outputs": [],
   "source": [
    "(ggplot(mpg) +\n",
    "    aes(x = \"displ\", y = \"hwy\") +\n",
    "    geom_point() + \n",
    "    ggtitle(\"Engine Displacement in Liters vs Highway MPG\") +\n",
    "    xlab(\"Engine Displacement in Liters\") +\n",
    "    ylab(\"Highway MPG\"))"
   ]
  },
  {
   "cell_type": "markdown",
   "metadata": {},
   "source": [
    "### Advanced Scatter Plotting"
   ]
  },
  {
   "cell_type": "code",
   "execution_count": null,
   "metadata": {
    "tags": [
     "ex",
     "name:scatter-with-regression",
     "package:ggplot"
    ]
   },
   "outputs": [],
   "source": [
    "%%R -w 10 -h 10 -u in \n",
    "ggplot(data = mpg) +\n",
    "    aes(x = displ, y = hwy) +\n",
    "    geom_point() +\n",
    "    geom_smooth(method=lm)"
   ]
  },
  {
   "cell_type": "code",
   "execution_count": null,
   "metadata": {
    "tags": [
     "ex",
     "name:scatter-with-regression",
     "package:plotnine"
    ]
   },
   "outputs": [],
   "source": [
    "(ggplot(mpg) +\n",
    "    aes(\"displ\", \"hwy\") +\n",
    "    geom_point() +\n",
    "    geom_smooth(method=\"lm\"))"
   ]
  },
  {
   "cell_type": "code",
   "execution_count": null,
   "metadata": {
    "tags": [
     "ex",
     "name:scatter-with-regression",
     "package:seaborn"
    ]
   },
   "outputs": [],
   "source": [
    "sns.lmplot(x=\"displ\", y=\"hwy\", \n",
    "           data=mpg, size=12)"
   ]
  },
  {
   "cell_type": "markdown",
   "metadata": {},
   "source": [
    "#### Scatter Plot with Colors"
   ]
  },
  {
   "cell_type": "code",
   "execution_count": null,
   "metadata": {
    "tags": [
     "ex",
     "name:scatter-plot-with-colors",
     "package:ggplot"
    ]
   },
   "outputs": [],
   "source": [
    "%%R -w 10 -h 10 -u in\n",
    "ggplot(data = mpg) + \n",
    "    aes(x = displ, y = hwy, color = class) +\n",
    "    geom_point() + \n",
    "    ggtitle(\"Engine Displacement in Liters vs Highway MPG\") +\n",
    "    xlab(\"Engine Displacement in Liters\") +\n",
    "    ylab(\"Highway MPG\")"
   ]
  },
  {
   "cell_type": "code",
   "execution_count": null,
   "metadata": {
    "scrolled": false,
    "tags": [
     "ex",
     "name:scatter-plot-with-colors",
     "package:matplotlib"
    ]
   },
   "outputs": [],
   "source": [
    "fig, ax = plt.subplots()\n",
    "for c, df in mpg.groupby('class'):\n",
    "    ax.scatter(df['displ'], df['hwy'], label=c)\n",
    "ax.legend()\n",
    "ax.set_title('Engine Displacement in Liters vs Highway MPG')\n",
    "ax.set_xlabel('Engine Displacement in Liters')\n",
    "ax.set_ylabel('Highway MPG');"
   ]
  },
  {
   "cell_type": "code",
   "execution_count": null,
   "metadata": {
    "tags": [
     "ex",
     "name:scatter-plot-with-colors",
     "package:seaborn"
    ]
   },
   "outputs": [],
   "source": [
    "\"\"\"seaborn.FacetGrid overrides the `rcParams['figure.figsize'] global parameter. \n",
    "You have to set the size in the size with `size=` in `FacetGrid`\"\"\"\n",
    "(sns\n",
    " .FacetGrid(mpg, hue=\"class\", size=10)\n",
    " .map(plt.scatter, \"displ\", \"hwy\")\n",
    " .add_legend()\n",
    " .set(\n",
    "    title=\"Engine Displacement in Liters vs Highway MPG\",\n",
    "    xlabel=\"Engine Displacement in Liters\",\n",
    "    ylabel=\"Highway MPG\"\n",
    "));"
   ]
  },
  {
   "cell_type": "code",
   "execution_count": null,
   "metadata": {
    "tags": [
     "ex",
     "name:scatter-plot-with-colors",
     "package:plotnine"
    ]
   },
   "outputs": [],
   "source": [
    "(ggplot(mpg) + \n",
    "    aes(x = \"displ\", y = \"hwy\", color = \"class\") +\n",
    "    geom_point() + \n",
    "    ggtitle(\"Engine Displacement in Liters vs Highway MPG\") +\n",
    "    xlab(\"Engine Displacement in Liters\") +\n",
    "    ylab(\"Highway MPG\"))"
   ]
  },
  {
   "cell_type": "markdown",
   "metadata": {},
   "source": [
    "#### Scatter Plot with Sizes and Transparency"
   ]
  },
  {
   "cell_type": "code",
   "execution_count": null,
   "metadata": {
    "tags": [
     "ex",
     "name:scatter-plot-with-size",
     "package:ggplot"
    ]
   },
   "outputs": [],
   "source": [
    "%%R -w 10 -h 10 -u in\n",
    "ggplot(data = mpg) +\n",
    "    aes(x = cty, y = hwy, size = cyl) +\n",
    "    geom_point(alpha=.5)"
   ]
  },
  {
   "cell_type": "code",
   "execution_count": null,
   "metadata": {
    "scrolled": false,
    "tags": [
     "ex",
     "name:scatter-plot-with-size",
     "package:pandas"
    ]
   },
   "outputs": [],
   "source": [
    "ax = (mpg\n",
    "    .plot\n",
    "    .scatter(x='cty', \n",
    "             y='hwy', \n",
    "             s=10*mpg['cyl'],\n",
    "             alpha=.5))\n",
    "ax.set_title('Engine Displacement in Liters vs Highway MPG')\n",
    "ax.set_xlabel('Engine Displacement in Liters')\n",
    "ax.set_ylabel('Highway MPG');"
   ]
  },
  {
   "cell_type": "code",
   "execution_count": null,
   "metadata": {
    "tags": [
     "ex",
     "name:scatter-plot-with-size",
     "package:plotnine"
    ]
   },
   "outputs": [],
   "source": [
    "(ggplot(mpg) +\n",
    "    aes(x=\"cty\", y=\"hwy\", size=\"cyl\") +\n",
    "    geom_point(alpha=.5))"
   ]
  },
  {
   "cell_type": "markdown",
   "metadata": {},
   "source": [
    "#### Scatter Plot with Single Facet"
   ]
  },
  {
   "cell_type": "code",
   "execution_count": null,
   "metadata": {
    "tags": [
     "ex",
     "name:scatter-plot-with-facet",
     "package:ggplot"
    ]
   },
   "outputs": [],
   "source": [
    "%%R -w 10 -h 10 -u in\n",
    "ggplot(data = mpg) + \n",
    "  aes(x=displ, y=hwy) +\n",
    "  geom_point() + \n",
    "  facet_wrap(~ class, nrow = 2)"
   ]
  },
  {
   "cell_type": "code",
   "execution_count": null,
   "metadata": {
    "tags": [
     "ex",
     "name:scatter-plot-with-facet",
     "package:seaborn"
    ]
   },
   "outputs": [],
   "source": [
    "(mpg\n",
    " .pipe(sns.FacetGrid, \n",
    "       col=\"class\", \n",
    "       col_wrap=4, \n",
    "       aspect=.5, \n",
    "       size=6)\n",
    " .map(plt.scatter, \"displ\", \"hwy\", s=20)\n",
    " .fig.subplots_adjust(wspace=.2, hspace=.2)\n",
    ");"
   ]
  },
  {
   "cell_type": "code",
   "execution_count": null,
   "metadata": {
    "tags": [
     "ex",
     "name:scatter-plot-with-facet",
     "package:plotnine"
    ]
   },
   "outputs": [],
   "source": [
    "(ggplot(mpg.assign(c=mpg[\"class\"])) + \n",
    "  aes(x=\"displ\", y=\"hwy\") +\n",
    "  geom_point() +\n",
    "  facet_wrap(\" ~ c\", nrow = 2))"
   ]
  },
  {
   "cell_type": "markdown",
   "metadata": {},
   "source": [
    "#### Scatter Plot with Facets"
   ]
  },
  {
   "cell_type": "code",
   "execution_count": null,
   "metadata": {
    "tags": [
     "ex",
     "name:scatter-plot-with-facets",
     "package:ggplot"
    ]
   },
   "outputs": [],
   "source": [
    "%%R -w 10 -h 10 -u in\n",
    "ggplot(data = mpg) + \n",
    "  aes(x = displ, y = hwy) +\n",
    "  geom_point() + \n",
    "  facet_grid(drv ~ cyl)"
   ]
  },
  {
   "cell_type": "code",
   "execution_count": null,
   "metadata": {
    "tags": [
     "ex",
     "name:scatter-plot-with-facets",
     "package:seaborn"
    ]
   },
   "outputs": [],
   "source": [
    "(mpg\n",
    " .pipe(sns.FacetGrid, \n",
    "       col=\"cyl\", \n",
    "       row=\"drv\", \n",
    "       aspect=.9, \n",
    "       size=4)\n",
    " .map(plt.scatter, \"displ\", \"hwy\", s=20)\n",
    " .fig.subplots_adjust(wspace=.02, hspace=.02)\n",
    ");"
   ]
  },
  {
   "cell_type": "code",
   "execution_count": null,
   "metadata": {
    "tags": [
     "ex",
     "name:scatter-plot-with-facets",
     "package:plotnine"
    ]
   },
   "outputs": [],
   "source": [
    "(ggplot(mpg) + \n",
    "  aes(x=\"displ\", y=\"hwy\") +\n",
    "  geom_point() + \n",
    "  facet_grid(\"drv ~ cyl\"))"
   ]
  },
  {
   "cell_type": "markdown",
   "metadata": {},
   "source": [
    "Stacked Scatter and Smoothed Line Plot"
   ]
  },
  {
   "cell_type": "code",
   "execution_count": null,
   "metadata": {
    "tags": [
     "ex",
     "name:stacked-smooth-line-and-scatter",
     "package:ggplot"
    ]
   },
   "outputs": [],
   "source": [
    "%%R -w 10 -h 10 -u in\n",
    "subcompact = mpg[mpg$`class` == \"subcompact\", ]\n",
    "ggplot(data = mpg, \n",
    "       mapping = aes(x = displ, y = hwy)) + \n",
    "  geom_point(mapping = aes(color = class)) + \n",
    "  geom_smooth(data = subcompact, \n",
    "              se = FALSE,\n",
    "              method = 'loess')"
   ]
  },
  {
   "cell_type": "code",
   "execution_count": null,
   "metadata": {
    "tags": [
     "ex",
     "name:stacked-smooth-line-and-scatter",
     "package:plotnine"
    ]
   },
   "outputs": [],
   "source": [
    "\"\"\"Notice the smoothed line isn't as smooth as it is in ggplot2.\"\"\"\n",
    "(ggplot(data=mpg, \n",
    "        mapping=aes(x=\"displ\", y=\"hwy\")) + \n",
    "  geom_point(mapping=aes(color = \"class\")) + \n",
    "  geom_smooth(data=mpg[mpg['class'] == \"subcompact\"], \n",
    "              se=False,\n",
    "              method = 'loess'\n",
    "             ))"
   ]
  },
  {
   "cell_type": "code",
   "execution_count": null,
   "metadata": {
    "tags": [
     "ex",
     "name:stacked-bar-chart",
     "package:ggplot"
    ]
   },
   "outputs": [],
   "source": [
    "%%R -w 10 -h 10 -u in\n",
    "ggplot(data = diamonds) + \n",
    "  aes(x = cut, fill = clarity) +\n",
    "  geom_bar()"
   ]
  },
  {
   "cell_type": "code",
   "execution_count": null,
   "metadata": {
    "tags": [
     "ex",
     "name:stacked-bar-chart",
     "package:plotnine"
    ]
   },
   "outputs": [],
   "source": [
    "(ggplot(diamonds) + \n",
    "  aes(x=\"cut\", fill=\"clarity\") +\n",
    "  geom_bar())"
   ]
  },
  {
   "cell_type": "code",
   "execution_count": null,
   "metadata": {
    "tags": [
     "ex",
     "name:stacked-bar-chart",
     "package:pandas"
    ]
   },
   "outputs": [],
   "source": [
    "(diamonds\n",
    " .groupby(['cut', 'clarity'])\n",
    " .size()\n",
    " .unstack()\n",
    " .plot.bar(stacked=True)\n",
    ");"
   ]
  },
  {
   "cell_type": "code",
   "execution_count": null,
   "metadata": {
    "tags": [
     "ex",
     "name:dodged-bar-chart",
     "package:ggplot"
    ]
   },
   "outputs": [],
   "source": [
    "%%R -w 10 -h 10 -u in\n",
    "ggplot(data = diamonds) + \n",
    "  aes(x = cut, fill = clarity) +\n",
    "  geom_bar(position = \"dodge\")"
   ]
  },
  {
   "cell_type": "code",
   "execution_count": null,
   "metadata": {
    "tags": [
     "ex",
     "name:dodged-bar-chart",
     "package:plotnine"
    ]
   },
   "outputs": [],
   "source": [
    "(ggplot(diamonds) + \n",
    "  aes(x='cut', fill='clarity') +\n",
    "  geom_bar(position = \"dodge\"))\n"
   ]
  },
  {
   "cell_type": "code",
   "execution_count": null,
   "metadata": {
    "tags": [
     "ex",
     "name:dodged-bar-chart",
     "package:pandas"
    ]
   },
   "outputs": [],
   "source": [
    "(diamonds\n",
    " .groupby(['cut', 'clarity'])\n",
    " .size()\n",
    " .unstack()\n",
    " .plot.bar()\n",
    ");"
   ]
  },
  {
   "cell_type": "code",
   "execution_count": null,
   "metadata": {
    "tags": [
     "ex",
     "name:stacked-kde",
     "package:ggplot"
    ]
   },
   "outputs": [],
   "source": [
    "%%R -w 10 -h 10 -u in\n",
    "ggplot(diamonds) +\n",
    "  aes(depth, fill = cut, colour = cut) +\n",
    "  geom_density(alpha = 0.1) +\n",
    "  xlim(55, 70)"
   ]
  },
  {
   "cell_type": "code",
   "execution_count": null,
   "metadata": {
    "tags": [
     "ex",
     "name:stacked-kde",
     "package:pandas"
    ]
   },
   "outputs": [],
   "source": [
    "\"\"\"I don't know whether Pandas can fill a KDE curve.\n",
    "\n",
    "This requires using some Matplotlib to get them to stack and to have a legend.\n",
    "\"\"\"\n",
    "fig, ax = plt.subplots()\n",
    "ax.set_xlim(55, 70)\n",
    "for cut in diamonds['cut'].unique():\n",
    "    s = diamonds[diamonds[\"cut\"] == cut]['depth']\n",
    "    s.plot.kde(ax=ax, label=cut)\n",
    "ax.legend()"
   ]
  },
  {
   "cell_type": "code",
   "execution_count": null,
   "metadata": {
    "tags": [
     "ex",
     "name:stacked-kde",
     "package:seaborn"
    ]
   },
   "outputs": [],
   "source": [
    "(sns\n",
    "  .FacetGrid(diamonds, \n",
    "             hue=\"cut\", \n",
    "             size=10, \n",
    "             xlim=(55, 70))\n",
    "  .map(sns.kdeplot, 'depth', shade=True)\n",
    " .add_legend()\n",
    ");"
   ]
  },
  {
   "cell_type": "code",
   "execution_count": null,
   "metadata": {
    "scrolled": false,
    "tags": [
     "ex",
     "name:stacked-kde",
     "package:plotnine"
    ]
   },
   "outputs": [],
   "source": [
    "\"\"\"`+ xlim(55, 70)` results in an error.\"\"\"\n",
    "(ggplot(diamonds) +\n",
    "  aes('depth', fill='cut', color='cut') +\n",
    "  geom_density(alpha=0.1))"
   ]
  },
  {
   "cell_type": "code",
   "execution_count": null,
   "metadata": {
    "collapsed": true
   },
   "outputs": [],
   "source": [
    "import numpy as np\n",
    "ts = (pd\n",
    "      .Series(np.random.randn(1000), \n",
    "              index=pd.date_range('1/1/2000', periods=1000))\n",
    "      .cumsum()\n",
    "      .to_frame()\n",
    "      .reset_index()\n",
    "     )\n",
    "ts.columns = ['date', 'value']"
   ]
  },
  {
   "cell_type": "code",
   "execution_count": null,
   "metadata": {
    "tags": [
     "ex",
     "name:timeseries",
     "package:ggplot"
    ]
   },
   "outputs": [],
   "source": [
    "%%R -i ts -w 10 -h 10 -u in \n",
    "ggplot(ts) + aes(date, value) + geom_line()"
   ]
  },
  {
   "cell_type": "code",
   "execution_count": null,
   "metadata": {
    "tags": [
     "ex",
     "name:timeseries",
     "package:plotnine"
    ]
   },
   "outputs": [],
   "source": [
    "(ggplot(ts) \n",
    " + aes(\"date\", \"value\") \n",
    " + geom_line())"
   ]
  },
  {
   "cell_type": "code",
   "execution_count": null,
   "metadata": {
    "tags": [
     "ex",
     "name:timeseries",
     "package:pandas"
    ]
   },
   "outputs": [],
   "source": [
    "ts.set_index('date')['value'].plot()"
   ]
  }
 ],
 "metadata": {
  "celltoolbar": "Tags",
  "kernelspec": {
   "display_name": "Python 3",
   "language": "python",
   "name": "python3"
  },
  "language_info": {
   "codemirror_mode": {
    "name": "ipython",
    "version": 3
   },
   "file_extension": ".py",
   "mimetype": "text/x-python",
   "name": "python",
   "nbconvert_exporter": "python",
   "pygments_lexer": "ipython3",
   "version": "3.6.1"
  }
 },
 "nbformat": 4,
 "nbformat_minor": 1
}
