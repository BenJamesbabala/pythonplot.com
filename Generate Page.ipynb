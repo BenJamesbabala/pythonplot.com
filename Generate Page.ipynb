{
 "cells": [
  {
   "cell_type": "code",
   "execution_count": 25,
   "metadata": {},
   "outputs": [
    {
     "name": "stdout",
     "output_type": "stream",
     "text": [
      "bar-counts\n",
      "bar-counts\n",
      "cd\n",
      "s3cmd sync web/ s3://catskill-sitcom-mew --acl-public --delete-removed --guess-mime-type --no-mime-magic --no-preserve\n",
      "upload: 'web/index.html' -> 's3://catskill-sitcom-mew/index.html'  [1 of 2]\n",
      " 40887 of 40887   100% in    0s   646.36 kB/s  done\n",
      "upload: 'web/t_index.html' -> 's3://catskill-sitcom-mew/t_index.html'  [2 of 2]\n",
      " 4406 of 4406   100% in    0s   140.70 kB/s  done\n",
      "Done. Uploaded 45293 bytes in 1.0 seconds, 44.23 kB/s.\n"
     ]
    }
   ],
   "source": [
    "import json\n",
    "import pandas as pd\n",
    "from collections import defaultdict\n",
    "from jinja2 import Environment, FileSystemLoader\n",
    "\n",
    "with open(\"./ggplot vs Python Plotting.ipynb\", 'r') as f:\n",
    "    nb = json.load(f)\n",
    "cells = nb['cells']\n",
    "tags = {i: set(c['metadata'].get('tags') or {}) for i, c in enumerate(cells)}\n",
    "\n",
    "meta = defaultdict(list)\n",
    "for cell_num, tags in tags.items():\n",
    "    if 'ex' not in tags: continue\n",
    "    tags = {t.split(\":\")[0]: t.split(\":\")[1] for t in tags if \":\" in t}\n",
    "    print(tags['name'])\n",
    "    meta[tags['name']].append({\n",
    "        \"cell_num\": cell_num,\n",
    "        \"package\": tags[\"package\"],\n",
    "    })\n",
    "\n",
    "def get_source_and_image(num, cells):\n",
    "    image = cells[num]['outputs'][0]['data']['image/png'].replace(\"\\n\", \"\").strip()\n",
    "    source = \"\".join(cells[num]['source']).replace(\"%%R\", \"\").strip()\n",
    "    return source, image\n",
    "\n",
    "\n",
    "output = [\n",
    "    [\"Bar Plot of Counts\", \"ggplot\", *get_source_and_image(6, cells)],\n",
    "    [\"Bar Plot of Counts\", \"Pandas\", *get_source_and_image(7, cells)]\n",
    "]\n",
    "\n",
    "\n",
    "env = Environment(loader=FileSystemLoader('web'), extensions=['jinja2_highlight.HighlightExtension'])\n",
    "template = env.get_template('t_index.html')\n",
    "output_from_parsed_template = template.render(foo=output)\n",
    "\n",
    "\n",
    "# to save the results\n",
    "with open(\"web/index.html\", \"w\") as fh:\n",
    "    fh.write(output_from_parsed_template)\n",
    "\n",
    "!make s3_upload"
   ]
  }
 ],
 "metadata": {
  "kernelspec": {
   "display_name": "Python 3",
   "language": "python",
   "name": "python3"
  }
 },
 "nbformat": 4,
 "nbformat_minor": 2
}
